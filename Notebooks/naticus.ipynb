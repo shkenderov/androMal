{
  "cells": [
    {
      "cell_type": "code",
      "source": [
        "import pandas as pd\n",
        "import numpy as np\n",
        "import math\n",
        "import os # needed for addressing files by path when reading and writing\n",
        "from scipy.io import arff #needed to read headers\n",
        "import matplotlib.pyplot as plt\n",
        "from sklearn.utils import shuffle\n",
        "from sklearn.model_selection import train_test_split\n",
        "from sklearn.metrics import confusion_matrix, ConfusionMatrixDisplay\n",
        "from sklearn.metrics import classification_report\n",
        "from sklearn.metrics import accuracy_score\n",
        "from sklearn import tree\n",
        "from sklearn.tree import DecisionTreeClassifier\n",
        "from sklearn.ensemble import RandomForestClassifier\n",
        "from torch.optim.lr_scheduler import StepLR\n",
        "from sklearn.preprocessing import StandardScaler\n",
        "import torch\n",
        "from torch.utils.data import DataLoader, TensorDataset\n"
      ],
      "outputs": [
        {
          "output_type": "stream",
          "name": "stderr",
          "text": "/anaconda/envs/azureml_py38_PT_TF/lib/python3.8/site-packages/tqdm/auto.py:21: TqdmWarning: IProgress not found. Please update jupyter and ipywidgets. See https://ipywidgets.readthedocs.io/en/stable/user_install.html\n  from .autonotebook import tqdm as notebook_tqdm\n"
        }
      ],
      "execution_count": 1,
      "metadata": {
        "id": "HA7cwnp6oA3I",
        "gather": {
          "logged": 1718875060091
        }
      }
    },
    {
      "cell_type": "code",
      "source": [
        "\n",
        "\n",
        "import pandas as pd\n",
        "from azure.ai.ml import MLClient\n",
        "from azure.identity import DefaultAzureCredential\n",
        "from azureml.core import Workspace, Experiment, Run\n",
        "\n",
        "ws = Workspace.from_config()\n",
        "ml_client = MLClient.from_config(credential=DefaultAzureCredential())\n",
        "data_asset = ml_client.data.get(\"naticus\", version=\"1\")\n",
        "\n",
        "# Create an experiment\n",
        "experiment_name = 'naticus'\n",
        "experiment = Experiment(ws, experiment_name)\n",
        "\n",
        "# Start a run\n",
        "run = experiment.start_logging()\n",
        "Alldata = pd.read_csv(data_asset.path)\n",
        "Alldata"
      ],
      "outputs": [
        {
          "output_type": "stream",
          "name": "stderr",
          "text": "Found the config file in: /config.json\n"
        },
        {
          "output_type": "execute_result",
          "execution_count": 2,
          "data": {
            "text/plain": "       android.permission.GET_ACCOUNTS  \\\n0                                    0   \n1                                    0   \n2                                    0   \n3                                    0   \n4                                    0   \n...                                ...   \n29327                                0   \n29328                                0   \n29329                                0   \n29330                                0   \n29331                                0   \n\n       com.sonyericsson.home.permission.BROADCAST_BADGE  \\\n0                                                     0   \n1                                                     0   \n2                                                     0   \n3                                                     0   \n4                                                     0   \n...                                                 ...   \n29327                                                 0   \n29328                                                 0   \n29329                                                 0   \n29330                                                 0   \n29331                                                 0   \n\n       android.permission.READ_PROFILE  android.permission.MANAGE_ACCOUNTS  \\\n0                                    0                                   0   \n1                                    0                                   0   \n2                                    0                                   0   \n3                                    0                                   0   \n4                                    0                                   0   \n...                                ...                                 ...   \n29327                                0                                   0   \n29328                                0                                   0   \n29329                                0                                   0   \n29330                                0                                   0   \n29331                                0                                   0   \n\n       android.permission.WRITE_SYNC_SETTINGS  \\\n0                                           0   \n1                                           0   \n2                                           0   \n3                                           0   \n4                                           0   \n...                                       ...   \n29327                                       0   \n29328                                       0   \n29329                                       0   \n29330                                       0   \n29331                                       0   \n\n       android.permission.READ_EXTERNAL_STORAGE  \\\n0                                             0   \n1                                             1   \n2                                             0   \n3                                             0   \n4                                             0   \n...                                         ...   \n29327                                         1   \n29328                                         0   \n29329                                         0   \n29330                                         0   \n29331                                         0   \n\n       android.permission.RECEIVE_SMS  \\\n0                                   0   \n1                                   0   \n2                                   0   \n3                                   0   \n4                                   0   \n...                               ...   \n29327                               0   \n29328                               0   \n29329                               0   \n29330                               0   \n29331                               0   \n\n       com.android.launcher.permission.READ_SETTINGS  \\\n0                                                  0   \n1                                                  0   \n2                                                  0   \n3                                                  0   \n4                                                  0   \n...                                              ...   \n29327                                              0   \n29328                                              0   \n29329                                              0   \n29330                                              0   \n29331                                              0   \n\n       android.permission.WRITE_SETTINGS  \\\n0                                      0   \n1                                      0   \n2                                      0   \n3                                      0   \n4                                      0   \n...                                  ...   \n29327                                  0   \n29328                                  0   \n29329                                  0   \n29330                                  0   \n29331                                  0   \n\n       com.google.android.providers.gsf.permission.READ_GSERVICES  ...  \\\n0                                                      0           ...   \n1                                                      0           ...   \n2                                                      0           ...   \n3                                                      0           ...   \n4                                                      0           ...   \n...                                                  ...           ...   \n29327                                                  0           ...   \n29328                                                  0           ...   \n29329                                                  0           ...   \n29330                                                  0           ...   \n29331                                                  0           ...   \n\n       com.android.launcher.permission.UNINSTALL_SHORTCUT  \\\n0                                                      0    \n1                                                      0    \n2                                                      0    \n3                                                      0    \n4                                                      0    \n...                                                  ...    \n29327                                                  0    \n29328                                                  0    \n29329                                                  0    \n29330                                                  0    \n29331                                                  0    \n\n       com.sec.android.iap.permission.BILLING  \\\n0                                           0   \n1                                           0   \n2                                           0   \n3                                           0   \n4                                           0   \n...                                       ...   \n29327                                       0   \n29328                                       0   \n29329                                       0   \n29330                                       0   \n29331                                       0   \n\n       com.htc.launcher.permission.UPDATE_SHORTCUT  \\\n0                                                0   \n1                                                0   \n2                                                0   \n3                                                0   \n4                                                0   \n...                                            ...   \n29327                                            0   \n29328                                            0   \n29329                                            0   \n29330                                            0   \n29331                                            0   \n\n       com.sec.android.provider.badge.permission.WRITE  \\\n0                                                    0   \n1                                                    0   \n2                                                    0   \n3                                                    0   \n4                                                    0   \n...                                                ...   \n29327                                                0   \n29328                                                0   \n29329                                                0   \n29330                                                0   \n29331                                                0   \n\n       android.permission.ACCESS_NETWORK_STATE  \\\n0                                            0   \n1                                            1   \n2                                            1   \n3                                            1   \n4                                            1   \n...                                        ...   \n29327                                        1   \n29328                                        1   \n29329                                        1   \n29330                                        0   \n29331                                        1   \n\n       com.google.android.finsky.permission.BIND_GET_INSTALL_REFERRER_SERVICE  \\\n0                                                      0                        \n1                                                      0                        \n2                                                      0                        \n3                                                      0                        \n4                                                      1                        \n...                                                  ...                        \n29327                                                  0                        \n29328                                                  0                        \n29329                                                  0                        \n29330                                                  0                        \n29331                                                  0                        \n\n       com.huawei.android.launcher.permission.READ_SETTINGS  \\\n0                                                      0      \n1                                                      0      \n2                                                      0      \n3                                                      0      \n4                                                      0      \n...                                                  ...      \n29327                                                  0      \n29328                                                  0      \n29329                                                  0      \n29330                                                  0      \n29331                                                  0      \n\n       android.permission.READ_SMS  android.permission.PROCESS_INCOMING_CALLS  \\\n0                                0                                          0   \n1                                0                                          0   \n2                                0                                          0   \n3                                0                                          0   \n4                                0                                          0   \n...                            ...                                        ...   \n29327                            0                                          0   \n29328                            0                                          0   \n29329                            0                                          0   \n29330                            0                                          0   \n29331                            0                                          0   \n\n       Result  \n0           0  \n1           0  \n2           0  \n3           0  \n4           0  \n...       ...  \n29327       1  \n29328       1  \n29329       1  \n29330       1  \n29331       1  \n\n[29332 rows x 87 columns]",
            "text/html": "<div>\n<style scoped>\n    .dataframe tbody tr th:only-of-type {\n        vertical-align: middle;\n    }\n\n    .dataframe tbody tr th {\n        vertical-align: top;\n    }\n\n    .dataframe thead th {\n        text-align: right;\n    }\n</style>\n<table border=\"1\" class=\"dataframe\">\n  <thead>\n    <tr style=\"text-align: right;\">\n      <th></th>\n      <th>android.permission.GET_ACCOUNTS</th>\n      <th>com.sonyericsson.home.permission.BROADCAST_BADGE</th>\n      <th>android.permission.READ_PROFILE</th>\n      <th>android.permission.MANAGE_ACCOUNTS</th>\n      <th>android.permission.WRITE_SYNC_SETTINGS</th>\n      <th>android.permission.READ_EXTERNAL_STORAGE</th>\n      <th>android.permission.RECEIVE_SMS</th>\n      <th>com.android.launcher.permission.READ_SETTINGS</th>\n      <th>android.permission.WRITE_SETTINGS</th>\n      <th>com.google.android.providers.gsf.permission.READ_GSERVICES</th>\n      <th>...</th>\n      <th>com.android.launcher.permission.UNINSTALL_SHORTCUT</th>\n      <th>com.sec.android.iap.permission.BILLING</th>\n      <th>com.htc.launcher.permission.UPDATE_SHORTCUT</th>\n      <th>com.sec.android.provider.badge.permission.WRITE</th>\n      <th>android.permission.ACCESS_NETWORK_STATE</th>\n      <th>com.google.android.finsky.permission.BIND_GET_INSTALL_REFERRER_SERVICE</th>\n      <th>com.huawei.android.launcher.permission.READ_SETTINGS</th>\n      <th>android.permission.READ_SMS</th>\n      <th>android.permission.PROCESS_INCOMING_CALLS</th>\n      <th>Result</th>\n    </tr>\n  </thead>\n  <tbody>\n    <tr>\n      <th>0</th>\n      <td>0</td>\n      <td>0</td>\n      <td>0</td>\n      <td>0</td>\n      <td>0</td>\n      <td>0</td>\n      <td>0</td>\n      <td>0</td>\n      <td>0</td>\n      <td>0</td>\n      <td>...</td>\n      <td>0</td>\n      <td>0</td>\n      <td>0</td>\n      <td>0</td>\n      <td>0</td>\n      <td>0</td>\n      <td>0</td>\n      <td>0</td>\n      <td>0</td>\n      <td>0</td>\n    </tr>\n    <tr>\n      <th>1</th>\n      <td>0</td>\n      <td>0</td>\n      <td>0</td>\n      <td>0</td>\n      <td>0</td>\n      <td>1</td>\n      <td>0</td>\n      <td>0</td>\n      <td>0</td>\n      <td>0</td>\n      <td>...</td>\n      <td>0</td>\n      <td>0</td>\n      <td>0</td>\n      <td>0</td>\n      <td>1</td>\n      <td>0</td>\n      <td>0</td>\n      <td>0</td>\n      <td>0</td>\n      <td>0</td>\n    </tr>\n    <tr>\n      <th>2</th>\n      <td>0</td>\n      <td>0</td>\n      <td>0</td>\n      <td>0</td>\n      <td>0</td>\n      <td>0</td>\n      <td>0</td>\n      <td>0</td>\n      <td>0</td>\n      <td>0</td>\n      <td>...</td>\n      <td>0</td>\n      <td>0</td>\n      <td>0</td>\n      <td>0</td>\n      <td>1</td>\n      <td>0</td>\n      <td>0</td>\n      <td>0</td>\n      <td>0</td>\n      <td>0</td>\n    </tr>\n    <tr>\n      <th>3</th>\n      <td>0</td>\n      <td>0</td>\n      <td>0</td>\n      <td>0</td>\n      <td>0</td>\n      <td>0</td>\n      <td>0</td>\n      <td>0</td>\n      <td>0</td>\n      <td>0</td>\n      <td>...</td>\n      <td>0</td>\n      <td>0</td>\n      <td>0</td>\n      <td>0</td>\n      <td>1</td>\n      <td>0</td>\n      <td>0</td>\n      <td>0</td>\n      <td>0</td>\n      <td>0</td>\n    </tr>\n    <tr>\n      <th>4</th>\n      <td>0</td>\n      <td>0</td>\n      <td>0</td>\n      <td>0</td>\n      <td>0</td>\n      <td>0</td>\n      <td>0</td>\n      <td>0</td>\n      <td>0</td>\n      <td>0</td>\n      <td>...</td>\n      <td>0</td>\n      <td>0</td>\n      <td>0</td>\n      <td>0</td>\n      <td>1</td>\n      <td>1</td>\n      <td>0</td>\n      <td>0</td>\n      <td>0</td>\n      <td>0</td>\n    </tr>\n    <tr>\n      <th>...</th>\n      <td>...</td>\n      <td>...</td>\n      <td>...</td>\n      <td>...</td>\n      <td>...</td>\n      <td>...</td>\n      <td>...</td>\n      <td>...</td>\n      <td>...</td>\n      <td>...</td>\n      <td>...</td>\n      <td>...</td>\n      <td>...</td>\n      <td>...</td>\n      <td>...</td>\n      <td>...</td>\n      <td>...</td>\n      <td>...</td>\n      <td>...</td>\n      <td>...</td>\n      <td>...</td>\n    </tr>\n    <tr>\n      <th>29327</th>\n      <td>0</td>\n      <td>0</td>\n      <td>0</td>\n      <td>0</td>\n      <td>0</td>\n      <td>1</td>\n      <td>0</td>\n      <td>0</td>\n      <td>0</td>\n      <td>0</td>\n      <td>...</td>\n      <td>0</td>\n      <td>0</td>\n      <td>0</td>\n      <td>0</td>\n      <td>1</td>\n      <td>0</td>\n      <td>0</td>\n      <td>0</td>\n      <td>0</td>\n      <td>1</td>\n    </tr>\n    <tr>\n      <th>29328</th>\n      <td>0</td>\n      <td>0</td>\n      <td>0</td>\n      <td>0</td>\n      <td>0</td>\n      <td>0</td>\n      <td>0</td>\n      <td>0</td>\n      <td>0</td>\n      <td>0</td>\n      <td>...</td>\n      <td>0</td>\n      <td>0</td>\n      <td>0</td>\n      <td>0</td>\n      <td>1</td>\n      <td>0</td>\n      <td>0</td>\n      <td>0</td>\n      <td>0</td>\n      <td>1</td>\n    </tr>\n    <tr>\n      <th>29329</th>\n      <td>0</td>\n      <td>0</td>\n      <td>0</td>\n      <td>0</td>\n      <td>0</td>\n      <td>0</td>\n      <td>0</td>\n      <td>0</td>\n      <td>0</td>\n      <td>0</td>\n      <td>...</td>\n      <td>0</td>\n      <td>0</td>\n      <td>0</td>\n      <td>0</td>\n      <td>1</td>\n      <td>0</td>\n      <td>0</td>\n      <td>0</td>\n      <td>0</td>\n      <td>1</td>\n    </tr>\n    <tr>\n      <th>29330</th>\n      <td>0</td>\n      <td>0</td>\n      <td>0</td>\n      <td>0</td>\n      <td>0</td>\n      <td>0</td>\n      <td>0</td>\n      <td>0</td>\n      <td>0</td>\n      <td>0</td>\n      <td>...</td>\n      <td>0</td>\n      <td>0</td>\n      <td>0</td>\n      <td>0</td>\n      <td>0</td>\n      <td>0</td>\n      <td>0</td>\n      <td>0</td>\n      <td>0</td>\n      <td>1</td>\n    </tr>\n    <tr>\n      <th>29331</th>\n      <td>0</td>\n      <td>0</td>\n      <td>0</td>\n      <td>0</td>\n      <td>0</td>\n      <td>0</td>\n      <td>0</td>\n      <td>0</td>\n      <td>0</td>\n      <td>0</td>\n      <td>...</td>\n      <td>0</td>\n      <td>0</td>\n      <td>0</td>\n      <td>0</td>\n      <td>1</td>\n      <td>0</td>\n      <td>0</td>\n      <td>0</td>\n      <td>0</td>\n      <td>1</td>\n    </tr>\n  </tbody>\n</table>\n<p>29332 rows × 87 columns</p>\n</div>"
          },
          "metadata": {}
        }
      ],
      "execution_count": 2,
      "metadata": {
        "colab": {
          "base_uri": "https://localhost:8080/",
          "height": 444
        },
        "id": "UA3Zuv6-oE9Y",
        "outputId": "b1e42dab-f14e-467d-874b-0cc1fabd9e73",
        "gather": {
          "logged": 1718875071316
        }
      }
    },
    {
      "cell_type": "code",
      "source": [
        "train_split=int(0.8*len(Alldata))\n",
        "x_train=Alldata[:train_split]\n",
        "x_test=Alldata[train_split:]\n",
        "x_test_cpy=x_test\n",
        "y_train=x_train['Result']\n",
        "y_test=x_test['Result']"
      ],
      "outputs": [],
      "execution_count": 3,
      "metadata": {
        "id": "t-ITtrMistVW",
        "gather": {
          "logged": 1718875071478
        }
      }
    },
    {
      "cell_type": "code",
      "source": [
        "x_train=x_train.drop(columns='Result')\n",
        "x_test=x_test.drop(columns='Result')\n",
        "x_test"
      ],
      "outputs": [
        {
          "output_type": "execute_result",
          "execution_count": 4,
          "data": {
            "text/plain": "       android.permission.GET_ACCOUNTS  \\\n23465                                0   \n23466                                0   \n23467                                0   \n23468                                0   \n23469                                0   \n...                                ...   \n29327                                0   \n29328                                0   \n29329                                0   \n29330                                0   \n29331                                0   \n\n       com.sonyericsson.home.permission.BROADCAST_BADGE  \\\n23465                                                 0   \n23466                                                 0   \n23467                                                 0   \n23468                                                 0   \n23469                                                 0   \n...                                                 ...   \n29327                                                 0   \n29328                                                 0   \n29329                                                 0   \n29330                                                 0   \n29331                                                 0   \n\n       android.permission.READ_PROFILE  android.permission.MANAGE_ACCOUNTS  \\\n23465                                1                                   0   \n23466                                1                                   0   \n23467                                1                                   0   \n23468                                1                                   0   \n23469                                1                                   0   \n...                                ...                                 ...   \n29327                                0                                   0   \n29328                                0                                   0   \n29329                                0                                   0   \n29330                                0                                   0   \n29331                                0                                   0   \n\n       android.permission.WRITE_SYNC_SETTINGS  \\\n23465                                       0   \n23466                                       0   \n23467                                       0   \n23468                                       0   \n23469                                       0   \n...                                       ...   \n29327                                       0   \n29328                                       0   \n29329                                       0   \n29330                                       0   \n29331                                       0   \n\n       android.permission.READ_EXTERNAL_STORAGE  \\\n23465                                         0   \n23466                                         0   \n23467                                         0   \n23468                                         0   \n23469                                         0   \n...                                         ...   \n29327                                         1   \n29328                                         0   \n29329                                         0   \n29330                                         0   \n29331                                         0   \n\n       android.permission.RECEIVE_SMS  \\\n23465                               0   \n23466                               0   \n23467                               0   \n23468                               0   \n23469                               0   \n...                               ...   \n29327                               0   \n29328                               0   \n29329                               0   \n29330                               0   \n29331                               0   \n\n       com.android.launcher.permission.READ_SETTINGS  \\\n23465                                              0   \n23466                                              0   \n23467                                              0   \n23468                                              0   \n23469                                              0   \n...                                              ...   \n29327                                              0   \n29328                                              0   \n29329                                              0   \n29330                                              0   \n29331                                              0   \n\n       android.permission.WRITE_SETTINGS  \\\n23465                                  1   \n23466                                  1   \n23467                                  1   \n23468                                  1   \n23469                                  1   \n...                                  ...   \n29327                                  0   \n29328                                  0   \n29329                                  0   \n29330                                  0   \n29331                                  0   \n\n       com.google.android.providers.gsf.permission.READ_GSERVICES  ...  \\\n23465                                                  0           ...   \n23466                                                  0           ...   \n23467                                                  0           ...   \n23468                                                  0           ...   \n23469                                                  0           ...   \n...                                                  ...           ...   \n29327                                                  0           ...   \n29328                                                  0           ...   \n29329                                                  0           ...   \n29330                                                  0           ...   \n29331                                                  0           ...   \n\n       android.permission.CLEAR_APP_CACHE  \\\n23465                                   0   \n23466                                   0   \n23467                                   0   \n23468                                   0   \n23469                                   0   \n...                                   ...   \n29327                                   0   \n29328                                   0   \n29329                                   0   \n29330                                   0   \n29331                                   0   \n\n       com.android.launcher.permission.UNINSTALL_SHORTCUT  \\\n23465                                                  0    \n23466                                                  0    \n23467                                                  0    \n23468                                                  0    \n23469                                                  0    \n...                                                  ...    \n29327                                                  0    \n29328                                                  0    \n29329                                                  0    \n29330                                                  0    \n29331                                                  0    \n\n       com.sec.android.iap.permission.BILLING  \\\n23465                                       0   \n23466                                       0   \n23467                                       0   \n23468                                       0   \n23469                                       0   \n...                                       ...   \n29327                                       0   \n29328                                       0   \n29329                                       0   \n29330                                       0   \n29331                                       0   \n\n       com.htc.launcher.permission.UPDATE_SHORTCUT  \\\n23465                                            0   \n23466                                            0   \n23467                                            0   \n23468                                            0   \n23469                                            0   \n...                                            ...   \n29327                                            0   \n29328                                            0   \n29329                                            0   \n29330                                            0   \n29331                                            0   \n\n       com.sec.android.provider.badge.permission.WRITE  \\\n23465                                                0   \n23466                                                0   \n23467                                                0   \n23468                                                0   \n23469                                                0   \n...                                                ...   \n29327                                                0   \n29328                                                0   \n29329                                                0   \n29330                                                0   \n29331                                                0   \n\n       android.permission.ACCESS_NETWORK_STATE  \\\n23465                                        1   \n23466                                        1   \n23467                                        1   \n23468                                        1   \n23469                                        1   \n...                                        ...   \n29327                                        1   \n29328                                        1   \n29329                                        1   \n29330                                        0   \n29331                                        1   \n\n       com.google.android.finsky.permission.BIND_GET_INSTALL_REFERRER_SERVICE  \\\n23465                                                  0                        \n23466                                                  0                        \n23467                                                  0                        \n23468                                                  0                        \n23469                                                  0                        \n...                                                  ...                        \n29327                                                  0                        \n29328                                                  0                        \n29329                                                  0                        \n29330                                                  0                        \n29331                                                  0                        \n\n       com.huawei.android.launcher.permission.READ_SETTINGS  \\\n23465                                                  0      \n23466                                                  0      \n23467                                                  0      \n23468                                                  0      \n23469                                                  0      \n...                                                  ...      \n29327                                                  0      \n29328                                                  0      \n29329                                                  0      \n29330                                                  0      \n29331                                                  0      \n\n       android.permission.READ_SMS  android.permission.PROCESS_INCOMING_CALLS  \n23465                            0                                          0  \n23466                            0                                          0  \n23467                            0                                          0  \n23468                            0                                          0  \n23469                            0                                          0  \n...                            ...                                        ...  \n29327                            0                                          0  \n29328                            0                                          0  \n29329                            0                                          0  \n29330                            0                                          0  \n29331                            0                                          0  \n\n[5867 rows x 86 columns]",
            "text/html": "<div>\n<style scoped>\n    .dataframe tbody tr th:only-of-type {\n        vertical-align: middle;\n    }\n\n    .dataframe tbody tr th {\n        vertical-align: top;\n    }\n\n    .dataframe thead th {\n        text-align: right;\n    }\n</style>\n<table border=\"1\" class=\"dataframe\">\n  <thead>\n    <tr style=\"text-align: right;\">\n      <th></th>\n      <th>android.permission.GET_ACCOUNTS</th>\n      <th>com.sonyericsson.home.permission.BROADCAST_BADGE</th>\n      <th>android.permission.READ_PROFILE</th>\n      <th>android.permission.MANAGE_ACCOUNTS</th>\n      <th>android.permission.WRITE_SYNC_SETTINGS</th>\n      <th>android.permission.READ_EXTERNAL_STORAGE</th>\n      <th>android.permission.RECEIVE_SMS</th>\n      <th>com.android.launcher.permission.READ_SETTINGS</th>\n      <th>android.permission.WRITE_SETTINGS</th>\n      <th>com.google.android.providers.gsf.permission.READ_GSERVICES</th>\n      <th>...</th>\n      <th>android.permission.CLEAR_APP_CACHE</th>\n      <th>com.android.launcher.permission.UNINSTALL_SHORTCUT</th>\n      <th>com.sec.android.iap.permission.BILLING</th>\n      <th>com.htc.launcher.permission.UPDATE_SHORTCUT</th>\n      <th>com.sec.android.provider.badge.permission.WRITE</th>\n      <th>android.permission.ACCESS_NETWORK_STATE</th>\n      <th>com.google.android.finsky.permission.BIND_GET_INSTALL_REFERRER_SERVICE</th>\n      <th>com.huawei.android.launcher.permission.READ_SETTINGS</th>\n      <th>android.permission.READ_SMS</th>\n      <th>android.permission.PROCESS_INCOMING_CALLS</th>\n    </tr>\n  </thead>\n  <tbody>\n    <tr>\n      <th>23465</th>\n      <td>0</td>\n      <td>0</td>\n      <td>1</td>\n      <td>0</td>\n      <td>0</td>\n      <td>0</td>\n      <td>0</td>\n      <td>0</td>\n      <td>1</td>\n      <td>0</td>\n      <td>...</td>\n      <td>0</td>\n      <td>0</td>\n      <td>0</td>\n      <td>0</td>\n      <td>0</td>\n      <td>1</td>\n      <td>0</td>\n      <td>0</td>\n      <td>0</td>\n      <td>0</td>\n    </tr>\n    <tr>\n      <th>23466</th>\n      <td>0</td>\n      <td>0</td>\n      <td>1</td>\n      <td>0</td>\n      <td>0</td>\n      <td>0</td>\n      <td>0</td>\n      <td>0</td>\n      <td>1</td>\n      <td>0</td>\n      <td>...</td>\n      <td>0</td>\n      <td>0</td>\n      <td>0</td>\n      <td>0</td>\n      <td>0</td>\n      <td>1</td>\n      <td>0</td>\n      <td>0</td>\n      <td>0</td>\n      <td>0</td>\n    </tr>\n    <tr>\n      <th>23467</th>\n      <td>0</td>\n      <td>0</td>\n      <td>1</td>\n      <td>0</td>\n      <td>0</td>\n      <td>0</td>\n      <td>0</td>\n      <td>0</td>\n      <td>1</td>\n      <td>0</td>\n      <td>...</td>\n      <td>0</td>\n      <td>0</td>\n      <td>0</td>\n      <td>0</td>\n      <td>0</td>\n      <td>1</td>\n      <td>0</td>\n      <td>0</td>\n      <td>0</td>\n      <td>0</td>\n    </tr>\n    <tr>\n      <th>23468</th>\n      <td>0</td>\n      <td>0</td>\n      <td>1</td>\n      <td>0</td>\n      <td>0</td>\n      <td>0</td>\n      <td>0</td>\n      <td>0</td>\n      <td>1</td>\n      <td>0</td>\n      <td>...</td>\n      <td>0</td>\n      <td>0</td>\n      <td>0</td>\n      <td>0</td>\n      <td>0</td>\n      <td>1</td>\n      <td>0</td>\n      <td>0</td>\n      <td>0</td>\n      <td>0</td>\n    </tr>\n    <tr>\n      <th>23469</th>\n      <td>0</td>\n      <td>0</td>\n      <td>1</td>\n      <td>0</td>\n      <td>0</td>\n      <td>0</td>\n      <td>0</td>\n      <td>0</td>\n      <td>1</td>\n      <td>0</td>\n      <td>...</td>\n      <td>0</td>\n      <td>0</td>\n      <td>0</td>\n      <td>0</td>\n      <td>0</td>\n      <td>1</td>\n      <td>0</td>\n      <td>0</td>\n      <td>0</td>\n      <td>0</td>\n    </tr>\n    <tr>\n      <th>...</th>\n      <td>...</td>\n      <td>...</td>\n      <td>...</td>\n      <td>...</td>\n      <td>...</td>\n      <td>...</td>\n      <td>...</td>\n      <td>...</td>\n      <td>...</td>\n      <td>...</td>\n      <td>...</td>\n      <td>...</td>\n      <td>...</td>\n      <td>...</td>\n      <td>...</td>\n      <td>...</td>\n      <td>...</td>\n      <td>...</td>\n      <td>...</td>\n      <td>...</td>\n      <td>...</td>\n    </tr>\n    <tr>\n      <th>29327</th>\n      <td>0</td>\n      <td>0</td>\n      <td>0</td>\n      <td>0</td>\n      <td>0</td>\n      <td>1</td>\n      <td>0</td>\n      <td>0</td>\n      <td>0</td>\n      <td>0</td>\n      <td>...</td>\n      <td>0</td>\n      <td>0</td>\n      <td>0</td>\n      <td>0</td>\n      <td>0</td>\n      <td>1</td>\n      <td>0</td>\n      <td>0</td>\n      <td>0</td>\n      <td>0</td>\n    </tr>\n    <tr>\n      <th>29328</th>\n      <td>0</td>\n      <td>0</td>\n      <td>0</td>\n      <td>0</td>\n      <td>0</td>\n      <td>0</td>\n      <td>0</td>\n      <td>0</td>\n      <td>0</td>\n      <td>0</td>\n      <td>...</td>\n      <td>0</td>\n      <td>0</td>\n      <td>0</td>\n      <td>0</td>\n      <td>0</td>\n      <td>1</td>\n      <td>0</td>\n      <td>0</td>\n      <td>0</td>\n      <td>0</td>\n    </tr>\n    <tr>\n      <th>29329</th>\n      <td>0</td>\n      <td>0</td>\n      <td>0</td>\n      <td>0</td>\n      <td>0</td>\n      <td>0</td>\n      <td>0</td>\n      <td>0</td>\n      <td>0</td>\n      <td>0</td>\n      <td>...</td>\n      <td>0</td>\n      <td>0</td>\n      <td>0</td>\n      <td>0</td>\n      <td>0</td>\n      <td>1</td>\n      <td>0</td>\n      <td>0</td>\n      <td>0</td>\n      <td>0</td>\n    </tr>\n    <tr>\n      <th>29330</th>\n      <td>0</td>\n      <td>0</td>\n      <td>0</td>\n      <td>0</td>\n      <td>0</td>\n      <td>0</td>\n      <td>0</td>\n      <td>0</td>\n      <td>0</td>\n      <td>0</td>\n      <td>...</td>\n      <td>0</td>\n      <td>0</td>\n      <td>0</td>\n      <td>0</td>\n      <td>0</td>\n      <td>0</td>\n      <td>0</td>\n      <td>0</td>\n      <td>0</td>\n      <td>0</td>\n    </tr>\n    <tr>\n      <th>29331</th>\n      <td>0</td>\n      <td>0</td>\n      <td>0</td>\n      <td>0</td>\n      <td>0</td>\n      <td>0</td>\n      <td>0</td>\n      <td>0</td>\n      <td>0</td>\n      <td>0</td>\n      <td>...</td>\n      <td>0</td>\n      <td>0</td>\n      <td>0</td>\n      <td>0</td>\n      <td>0</td>\n      <td>1</td>\n      <td>0</td>\n      <td>0</td>\n      <td>0</td>\n      <td>0</td>\n    </tr>\n  </tbody>\n</table>\n<p>5867 rows × 86 columns</p>\n</div>"
          },
          "metadata": {}
        }
      ],
      "execution_count": 4,
      "metadata": {
        "id": "M1mHUtzbtPl2",
        "gather": {
          "logged": 1718875071630
        }
      }
    },
    {
      "cell_type": "code",
      "source": [
        "# Standardize the features\n",
        "scaler = StandardScaler()\n",
        "x_train = scaler.fit_transform(x_train)\n",
        "x_test = scaler.transform(x_test)\n",
        "\n",
        "# Convert to PyTorch tensors\n",
        "X_train_tensor = torch.tensor(x_train, dtype=torch.float32)\n",
        "y_train_tensor = torch.tensor(y_train.values, dtype=torch.long)\n",
        "X_test_tensor = torch.tensor(x_test, dtype=torch.float32)\n",
        "y_test_tensor = torch.tensor(y_test.values, dtype=torch.long)\n",
        "\n",
        "# Create DataLoader\n",
        "train_dataset = TensorDataset(X_train_tensor, y_train_tensor)\n",
        "test_dataset = TensorDataset(X_test_tensor, y_test_tensor)\n",
        "train_loader = DataLoader(train_dataset, batch_size=32, shuffle=True)\n",
        "test_loader = DataLoader(test_dataset, batch_size=32, shuffle=False)\n"
      ],
      "outputs": [],
      "execution_count": 5,
      "metadata": {
        "id": "DUicIxmIs5jX",
        "gather": {
          "logged": 1718875071762
        }
      }
    },
    {
      "cell_type": "code",
      "source": [
        "import torch.nn as nn\n",
        "import torch.nn.functional as F\n",
        "\n",
        "class MalwareDetectionNN(nn.Module):\n",
        "    def __init__(self, input_size):\n",
        "        super(MalwareDetectionNN, self).__init__()\n",
        "        self.fc1 = nn.Linear(input_size, 128)\n",
        "        self.bn1 = nn.BatchNorm1d(128)\n",
        "        self.dropout1 = nn.Dropout(0.5)\n",
        "\n",
        "        self.fc2 = nn.Linear(128, 64)\n",
        "        self.bn2 = nn.BatchNorm1d(64)\n",
        "        self.dropout2 = nn.Dropout(0.5)\n",
        "\n",
        "        self.fc3 = nn.Linear(64, 32)  \n",
        "        self.bn3 = nn.BatchNorm1d(32)\n",
        "        self.dropout3 = nn.Dropout(0.5)\n",
        "\n",
        "\n",
        "        self.fc4 = nn.Linear(32, 2)# 2 output classes: benign or malicious\n",
        "\n",
        "    def forward(self, x):\n",
        "        x = self.dropout1(F.relu(self.bn1(self.fc1(x))))\n",
        "        x = self.dropout2(F.relu(self.bn2(self.fc2(x))))\n",
        "        x = self.dropout3(F.relu(self.bn3(self.fc3(x))))\n",
        "\n",
        "        x = self.fc4(x)\n",
        "        #x = F.relu(self.fc1(x))\n",
        "        #x = F.relu(self.fc2(x))\n",
        "        #x = F.relu(self.fc3(x))\n",
        "      \n",
        "        return x"
      ],
      "outputs": [],
      "execution_count": 6,
      "metadata": {
        "id": "sii9Vzvns9f6",
        "gather": {
          "logged": 1718875071867
        }
      }
    },
    {
      "cell_type": "code",
      "source": [
        "all_predictions = []\n"
      ],
      "outputs": [],
      "execution_count": 7,
      "metadata": {
        "id": "zvh7wCJutB_v",
        "gather": {
          "logged": 1718875071979
        }
      }
    },
    {
      "cell_type": "code",
      "source": [
        "# Initialize model, loss function, and optimizer\n",
        "input_size = x_train.shape[1]\n",
        "model = MalwareDetectionNN(input_size)\n",
        "criterion = nn.CrossEntropyLoss()\n",
        "optimizer = torch.optim.Adam(model.parameters(), lr=0.0001)\n",
        "scheduler = StepLR(optimizer, step_size=10, gamma=0.1)\n",
        "\n",
        "# Training loop\n",
        "epochs = 40\n",
        "best_val_loss = float('inf')\n",
        "early_stop_patience = 5\n",
        "no_improve_epochs = 0\n",
        "\n"
      ],
      "outputs": [],
      "execution_count": 8,
      "metadata": {
        "colab": {
          "base_uri": "https://localhost:8080/"
        },
        "id": "KqocWbl0uAIq",
        "outputId": "0c57b38b-675e-4144-ddc5-a9c2a6913a4c",
        "gather": {
          "logged": 1718875072081
        }
      }
    },
    {
      "cell_type": "markdown",
      "source": [
        "for epoch in range(epochs):\n",
        "    model.train()\n",
        "    running_loss = 0.0\n",
        "    for inputs, labels in train_loader:\n",
        "        optimizer.zero_grad()\n",
        "        outputs = model(inputs)\n",
        "        loss = criterion(outputs, labels)\n",
        "        loss.backward()\n",
        "        optimizer.step()\n",
        "        running_loss += loss.item()\n",
        "\n",
        "    scheduler.step()\n",
        "    \n",
        "    print(f'Epoch {epoch+1}, Loss: {running_loss/len(train_loader)}')\n",
        "    "
      ],
      "metadata": {
        "nteract": {
          "transient": {
            "deleting": false
          }
        }
      }
    },
    {
      "cell_type": "code",
      "source": [
        "torch.save(model.state_dict(), 'malware_detection_model2.pth')\n",
        "\n",
        "# Load the model\n",
        "#model = MalwareDetectionNN(input_size)\n",
        "model.load_state_dict(torch.load('malware_detection_model2.pth'))"
      ],
      "outputs": [
        {
          "output_type": "execute_result",
          "execution_count": 9,
          "data": {
            "text/plain": "<All keys matched successfully>"
          },
          "metadata": {}
        }
      ],
      "execution_count": 9,
      "metadata": {
        "colab": {
          "base_uri": "https://localhost:8080/"
        },
        "id": "JX8Eo0hSvIyO",
        "outputId": "9025504c-8d61-47f4-9c9b-1c386d9799ed",
        "gather": {
          "logged": 1718875072222
        }
      }
    },
    {
      "cell_type": "markdown",
      "source": [
        "# Evaluate the model\n",
        "val_loss = 0.0\n",
        "correct = 0\n",
        "total = 0\n",
        "model.eval()\n",
        "correct = 0\n",
        "total = 0\n",
        "\n",
        "with torch.no_grad():\n",
        "    for inputs, labels in test_loader:\n",
        "        outputs = model(inputs)\n",
        "        _, predicted = torch.max(outputs, 1)\n",
        "        total += labels.size(0)\n",
        "        correct += (predicted == labels).sum().item()\n",
        "\n",
        "        all_predictions.append(predicted.cpu())  # Append predictions to the list\n",
        "avg_train_loss = running_loss / len(train_loader)\n",
        "avg_val_loss = val_loss / len(test_loader)\n",
        "val_accuracy = 100 * correct / total\n",
        "print(f'Accuracy: {100 * correct / total}%')"
      ],
      "metadata": {
        "nteract": {
          "transient": {
            "deleting": false
          }
        }
      }
    },
    {
      "cell_type": "markdown",
      "source": [],
      "metadata": {
        "nteract": {
          "transient": {
            "deleting": false
          }
        }
      }
    },
    {
      "cell_type": "markdown",
      "source": [
        " # Early stopping\n",
        "if avg_val_loss < best_val_loss:\n",
        "    best_val_loss = avg_val_loss\n",
        "    no_improve_epochs = 0\n",
        "    torch.save(model.state_dict(), 'best_model.pth')  # Save the best model\n",
        "else:\n",
        "    no_improve_epochs += 1\n",
        "\n",
        "if no_improve_epochs >= early_stop_patience:\n",
        "    print(\"Early stopping triggered\")\n",
        "    break"
      ],
      "metadata": {
        "nteract": {
          "transient": {
            "deleting": false
          }
        }
      }
    },
    {
      "cell_type": "code",
      "source": [
        "for epoch in range(epochs):\n",
        "    model.train()\n",
        "    running_loss = 0.0\n",
        "    for inputs, labels in train_loader:\n",
        "        optimizer.zero_grad()\n",
        "        outputs = model(inputs)\n",
        "        loss = criterion(outputs, labels)\n",
        "        loss.backward()\n",
        "        optimizer.step()\n",
        "        running_loss += loss.item()\n",
        "    \n",
        "    # Update the learning rate\n",
        "    scheduler.step()\n",
        "    \n",
        "    # Validation step\n",
        "    model.eval()\n",
        "    val_loss = 0.0\n",
        "    correct = 0\n",
        "    total = 0\n",
        "    with torch.no_grad():\n",
        "        for inputs, labels in test_loader:\n",
        "            outputs = model(inputs)\n",
        "            loss = criterion(outputs, labels)\n",
        "            val_loss += loss.item()\n",
        "            _, predicted = torch.max(outputs, 1)\n",
        "            total += labels.size(0)\n",
        "            correct += (predicted == labels).sum().item()\n",
        "    \n",
        "    avg_train_loss = running_loss / len(train_loader)\n",
        "    avg_val_loss = val_loss / len(test_loader)\n",
        "    val_accuracy = 100 * correct / total\n",
        "    \n",
        "    print(f'Epoch {epoch+1}, Train Loss: {avg_train_loss}, Val Loss: {avg_val_loss}, Val Accuracy: {val_accuracy}%')\n",
        "    \n",
        "    # Early stopping\n",
        "    if avg_val_loss < best_val_loss:\n",
        "        best_val_loss = avg_val_loss\n",
        "        no_improve_epochs = 0\n",
        "        torch.save(model.state_dict(), 'best_model.pth')  # Save the best model\n",
        "    else:\n",
        "        no_improve_epochs += 1\n",
        "    \n",
        "    if no_improve_epochs >= early_stop_patience:\n",
        "        print(\"Early stopping triggered\")\n",
        "        break"
      ],
      "outputs": [
        {
          "output_type": "stream",
          "name": "stdout",
          "text": "Epoch 1, Train Loss: 0.5449257616451066, Val Loss: 0.6280819592673493, Val Accuracy: 70.17214930969831%\nEpoch 2, Train Loss: 0.3051504752616467, Val Loss: 0.44772168374417914, Val Accuracy: 78.7966592807227%\nEpoch 3, Train Loss: 0.21866272793884822, Val Loss: 0.48146793501370627, Val Accuracy: 77.39901141980569%\nEpoch 4, Train Loss: 0.18533483012617447, Val Loss: 0.531015581400741, Val Accuracy: 74.24578148968808%\nEpoch 5, Train Loss: 0.1735201141307237, Val Loss: 0.5267753245450718, Val Accuracy: 76.20589739219362%\nEpoch 6, Train Loss: 0.16540618924733647, Val Loss: 0.42644892974614934, Val Accuracy: 82.52940173853759%\nEpoch 7, Train Loss: 0.15823949453464078, Val Loss: 0.6771737047592583, Val Accuracy: 69.79717061530594%\nEpoch 8, Train Loss: 0.1514897797718563, Val Loss: 0.551412502189835, Val Accuracy: 74.67189364240669%\nEpoch 9, Train Loss: 0.14724581409499496, Val Loss: 0.6643689273193519, Val Accuracy: 70.06988239304584%\nEpoch 10, Train Loss: 0.14450427317326986, Val Loss: 0.6688068500623795, Val Accuracy: 70.01874893471962%\nEpoch 11, Train Loss: 0.14560106102306122, Val Loss: 0.6882410462839408, Val Accuracy: 69.40514743480485%\nEarly stopping triggered\n"
        }
      ],
      "execution_count": 10,
      "metadata": {
        "jupyter": {
          "source_hidden": false,
          "outputs_hidden": false
        },
        "nteract": {
          "transient": {
            "deleting": false
          }
        },
        "gather": {
          "logged": 1718875089873
        }
      }
    },
    {
      "cell_type": "code",
      "source": [
        "import joblib\n",
        "from azureml.core import Model\n",
        "\n",
        "os.makedirs('outputs', exist_ok=True)\n",
        "joblib.dump(model, 'outputs/naticus.pkl')\n"
      ],
      "outputs": [
        {
          "output_type": "execute_result",
          "execution_count": 11,
          "data": {
            "text/plain": "['outputs/naticus.pkl']"
          },
          "metadata": {}
        }
      ],
      "execution_count": 11,
      "metadata": {
        "jupyter": {
          "source_hidden": false,
          "outputs_hidden": false
        },
        "nteract": {
          "transient": {
            "deleting": false
          }
        },
        "gather": {
          "logged": 1718875090040
        }
      }
    },
    {
      "cell_type": "code",
      "source": [
        "# Save the final model state\n",
        "model_save_path = 'final_modelNaticus.pth'\n",
        "torch.save(model.state_dict(), model_save_path)\n",
        "print(f\"Saved final model state to {model_save_path}\")\n",
        "\n",
        "# Register the model\n",
        "#model = run.register_model(model_name='your_model_name', model_path='outputs/model.pkl')\n",
        "model = Model.register(\n",
        "    workspace=ws,\n",
        "    model_path=model_save_path,\n",
        "    model_name='Naticus',\n",
        "    description='A Naticus neural network for malware detection'\n",
        ")\n",
        "# Complete the run\n",
        "run.complete()"
      ],
      "outputs": [
        {
          "output_type": "stream",
          "name": "stdout",
          "text": "Saved final model state to final_modelNaticus.pth\nRegistering model Naticus\n"
        }
      ],
      "execution_count": 12,
      "metadata": {
        "id": "AnVDxYg5yJXR",
        "gather": {
          "logged": 1718875091873
        }
      }
    }
  ],
  "metadata": {
    "colab": {
      "provenance": []
    },
    "kernelspec": {
      "name": "python38-azureml-pt-tf",
      "language": "python",
      "display_name": "Python 3.8 - Pytorch and Tensorflow"
    },
    "language_info": {
      "name": "python",
      "version": "3.8.5",
      "mimetype": "text/x-python",
      "codemirror_mode": {
        "name": "ipython",
        "version": 3
      },
      "pygments_lexer": "ipython3",
      "nbconvert_exporter": "python",
      "file_extension": ".py"
    },
    "microsoft": {
      "ms_spell_check": {
        "ms_spell_check_language": "en"
      },
      "host": {
        "AzureML": {
          "notebookHasBeenCompleted": true
        }
      }
    },
    "kernel_info": {
      "name": "python38-azureml-pt-tf"
    },
    "nteract": {
      "version": "nteract-front-end@1.0.0"
    }
  },
  "nbformat": 4,
  "nbformat_minor": 0
}